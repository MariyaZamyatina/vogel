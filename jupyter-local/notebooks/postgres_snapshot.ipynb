{
 "cells": [
  {
   "cell_type": "markdown",
   "metadata": {},
   "source": [
    "# Prepare driver"
   ]
  },
  {
   "cell_type": "code",
   "execution_count": 1,
   "metadata": {},
   "outputs": [
    {
     "name": "stdout",
     "output_type": "stream",
     "text": [
      "--2019-10-21 20:26:50--  https://repo1.maven.org/maven2/org/postgresql/postgresql/42.2.5/postgresql-42.2.5.jar\n",
      "Resolving repo1.maven.org (repo1.maven.org)... 151.101.112.209\n",
      "Connecting to repo1.maven.org (repo1.maven.org)|151.101.112.209|:443... connected.\n",
      "HTTP request sent, awaiting response... 200 OK\n",
      "Length: 825943 (807K) [application/java-archive]\n",
      "Saving to: ‘/home/jovyan/postgresql-42.2.5.jar.1’\n",
      "\n",
      "postgresql-42.2.5.j 100%[===================>] 806.58K  1.46MB/s    in 0.5s    \n",
      "\n",
      "2019-10-21 20:26:51 (1.46 MB/s) - ‘/home/jovyan/postgresql-42.2.5.jar.1’ saved [825943/825943]\n",
      "\n"
     ]
    }
   ],
   "source": [
    "! wget -P /home/jovyan https://repo1.maven.org/maven2/org/postgresql/postgresql/42.2.5/postgresql-42.2.5.jar"
   ]
  },
  {
   "cell_type": "markdown",
   "metadata": {},
   "source": [
    "# Start spark application"
   ]
  },
  {
   "cell_type": "code",
   "execution_count": 2,
   "metadata": {},
   "outputs": [
    {
     "name": "stdout",
     "output_type": "stream",
     "text": [
      "Application started\n"
     ]
    }
   ],
   "source": [
    "import os\n",
    "os.environ['PYSPARK_SUBMIT_ARGS'] = '--driver-class-path /home/jovyan/postgresql-42.2.5.jar --jars /home/jovyan/postgresql-42.2.5.jar pyspark-shell'\n",
    "\n",
    "import pyspark\n",
    "\n",
    "spark = pyspark.sql.SparkSession.builder \\\n",
    "        .master(\"local[1]\") \\\n",
    "        .appName(\"snapshot\") \\\n",
    "        .getOrCreate()\n",
    "\n",
    "print(\"Application started\")"
   ]
  },
  {
   "cell_type": "markdown",
   "metadata": {},
   "source": [
    "# Warm-up spark"
   ]
  },
  {
   "cell_type": "code",
   "execution_count": 3,
   "metadata": {},
   "outputs": [
    {
     "name": "stdout",
     "output_type": "stream",
     "text": [
      "Spark application is ready for work\n"
     ]
    }
   ],
   "source": [
    "spark.sparkContext.range(1000).sum()\n",
    "print(\"Spark application is ready for work\")"
   ]
  },
  {
   "cell_type": "code",
   "execution_count": 4,
   "metadata": {},
   "outputs": [
    {
     "name": "stdout",
     "output_type": "stream",
     "text": [
      "root\n",
      " |-- id: integer (nullable = true)\n",
      " |-- first_name: string (nullable = true)\n",
      " |-- last_name: string (nullable = true)\n",
      " |-- email: string (nullable = true)\n",
      "\n"
     ]
    }
   ],
   "source": [
    "# join на стороне базы данных, результат в spark\n",
    "join_result = spark.read.format('jdbc').options(\n",
    "        url = \"jdbc:postgresql://postgres:5432/postgres?user=postgres&password=postgres&currentSchema=inventory\",\n",
    "        database='postgres',\n",
    "        query='select c.* from customers c left join orders o on (c.id = o.purchaser)'\n",
    "    ).load()\n",
    "\n",
    "join_result.printSchema()"
   ]
  },
  {
   "cell_type": "code",
   "execution_count": 5,
   "metadata": {},
   "outputs": [
    {
     "name": "stdout",
     "output_type": "stream",
     "text": [
      "root\n",
      " |-- id: integer (nullable = true)\n",
      " |-- first_name: string (nullable = true)\n",
      " |-- last_name: string (nullable = true)\n",
      " |-- email: string (nullable = true)\n",
      " |-- id: integer (nullable = true)\n",
      " |-- order_date: date (nullable = true)\n",
      " |-- purchaser: integer (nullable = true)\n",
      " |-- quantity: integer (nullable = true)\n",
      " |-- product_id: integer (nullable = true)\n",
      "\n"
     ]
    }
   ],
   "source": [
    "# взяли все as-is, посчитали в spark\n",
    "customers = spark.read.format('jdbc').options(\n",
    "        url = \"jdbc:postgresql://postgres:5432/postgres?user=postgres&password=postgres&currentSchema=inventory\",\n",
    "        database='postgres',\n",
    "        dbtable='customers'\n",
    "    ).load()\n",
    "\n",
    "orders = spark.read.format('jdbc').options(\n",
    "        url = \"jdbc:postgresql://postgres:5432/postgres?user=postgres&password=postgres&currentSchema=inventory\",\n",
    "        database='postgres',\n",
    "        dbtable='orders'\n",
    "    ).load()\n",
    "\n",
    "join_result = customers.join(orders, customers[\"id\"] == orders[\"purchaser\"])\n",
    "join_result.printSchema()"
   ]
  },
  {
   "cell_type": "markdown",
   "metadata": {},
   "source": [
    "# Read some PostgreSQL Data"
   ]
  },
  {
   "cell_type": "code",
   "execution_count": 6,
   "metadata": {},
   "outputs": [
    {
     "name": "stdout",
     "output_type": "stream",
     "text": [
      "Customers table\n",
      "+----+----------+----------+--------------------+\n",
      "|  id|first_name| last_name|               email|\n",
      "+----+----------+----------+--------------------+\n",
      "|1176|   Matthew|     Jones|michaelwilson@fie...|\n",
      "|1177|       Tom|     Craig|parkerrandall@dye...|\n",
      "|1890|   Michael|Livingston|oneilljames@gmail...|\n",
      "|1891|   Jackson|    Meyers|aanderson@hotmail...|\n",
      "|1180|    Laurie|   Jackson|leepatrick@jones-...|\n",
      "+----+----------+----------+--------------------+\n",
      "only showing top 5 rows\n",
      "\n",
      "Orders table\n",
      "+-----+----------+---------+--------+----------+\n",
      "|   id|order_date|purchaser|quantity|product_id|\n",
      "+-----+----------+---------+--------+----------+\n",
      "|10001|2016-01-16|     1001|       1|       102|\n",
      "|10002|2016-01-17|     1002|       2|       105|\n",
      "|10003|2016-02-19|     1002|       2|       106|\n",
      "|10004|2016-02-21|     1003|       1|       107|\n",
      "+-----+----------+---------+--------+----------+\n",
      "\n",
      "Products table\n",
      "+---+------------------+--------------------+------+\n",
      "| id|              name|         description|weight|\n",
      "+---+------------------+--------------------+------+\n",
      "|101|           scooter|Small 2-wheel sco...|  3.14|\n",
      "|102|       car battery|     12V car battery|   8.1|\n",
      "|103|12-pack drill bits|12-pack of drill ...|   0.8|\n",
      "|104|            hammer|12oz carpenter's ...|  0.75|\n",
      "|105|            hammer|14oz carpenter's ...| 0.875|\n",
      "+---+------------------+--------------------+------+\n",
      "only showing top 5 rows\n",
      "\n"
     ]
    }
   ],
   "source": [
    "customers = spark.read.format('jdbc').options(\n",
    "        url = \"jdbc:postgresql://postgres:5432/postgres?user=postgres&password=postgres&currentSchema=inventory\",\n",
    "        database='postgres',\n",
    "        dbtable='customers'\n",
    "    ).load()\n",
    "\n",
    "products = spark.read.format('jdbc').options(\n",
    "        url = \"jdbc:postgresql://postgres:5432/postgres?user=postgres&password=postgres&currentSchema=inventory\",\n",
    "        database='postgres',\n",
    "        dbtable='products'\n",
    "    ).load()\n",
    "\n",
    "orders = spark.read.format('jdbc').options(\n",
    "        url = \"jdbc:postgresql://postgres:5432/postgres?user=postgres&password=postgres&currentSchema=inventory\",\n",
    "        database='postgres',\n",
    "        dbtable='orders'\n",
    "    ).load()\n",
    "\n",
    "customers.registerTempTable(\"customers\")\n",
    "products.registerTempTable(\"products\")\n",
    "orders.registerTempTable(\"orders\")\n",
    "\n",
    "print(\"Customers table\")\n",
    "customers.show(5)\n",
    "print(\"Orders table\")\n",
    "orders.show(5)\n",
    "print(\"Products table\")\n",
    "products.show(5)\n"
   ]
  },
  {
   "cell_type": "markdown",
   "metadata": {},
   "source": [
    "# Read and join the data"
   ]
  },
  {
   "cell_type": "markdown",
   "metadata": {},
   "source": [
    "Напишите select-запрос, который выводит следующие данные (доступные таблицы - customers, products, orders):\n",
    "\n",
    "id - id пользователя из таблицы customers\n",
    "first_name - first_name пользователя из таблицы customers\n",
    "last_name - last_name пользователя из таблицы customers\n",
    "total_weight - суммарный размер всех продуктов данного пользователя (поле weight в таблице products)\n",
    "load_dttm - дата/время выполнения команды загрузки\n",
    "\n",
    "Дополнительные ограничения запроса - необходимо выграть только тех пользователей, у которых id<=1005."
   ]
  },
  {
   "cell_type": "code",
   "execution_count": 39,
   "metadata": {
    "scrolled": true
   },
   "outputs": [],
   "source": [
    "# please write your query here\n",
    "query = \"SELECT c.id, c.first_name, c.last_name, \\\n",
    "        SUM(p.weight) AS total_weight, \\\n",
    "        CURRENT_TIMESTAMP() as load_dttm \\\n",
    "        FROM customers as c \\\n",
    "        LEFT JOIN orders AS o ON c.id = o.purchaser \\\n",
    "        LEFT JOIN products AS p ON o.product_id = p.id \\\n",
    "        WHERE c.id <= 1005 \\\n",
    "        GROUP BY c.id, c.first_name, c.last_name\"\n",
    "\n",
    "result = spark.sql(query)\n",
    "result.write.format(\"parquet\").save(\"/home/jovyan/weight_report\")"
   ]
  },
  {
   "cell_type": "code",
   "execution_count": 40,
   "metadata": {
    "scrolled": true
   },
   "outputs": [
    {
     "name": "stdout",
     "output_type": "stream",
     "text": [
      "+----+----------+---------+------------+--------------------+\n",
      "|  id|first_name|last_name|total_weight|           load_dttm|\n",
      "+----+----------+---------+------------+--------------------+\n",
      "|1002|    George|   Bailey|       1.875|2019-10-21 21:16:...|\n",
      "|1003|    Edward|   Walker|         5.3|2019-10-21 21:16:...|\n",
      "|1001|     Sally|   Thomas|         8.1|2019-10-21 21:16:...|\n",
      "|1004|      Anne|Kretchmar|        null|2019-10-21 21:16:...|\n",
      "+----+----------+---------+------------+--------------------+\n",
      "\n"
     ]
    }
   ],
   "source": [
    "spark.read \\\n",
    "    .format(\"parquet\").load(\"/home/jovyan/weight_report\").show()"
   ]
  }
 ],
 "metadata": {
  "kernelspec": {
   "display_name": "Python 3",
   "language": "python",
   "name": "python3"
  },
  "language_info": {
   "codemirror_mode": {
    "name": "ipython",
    "version": 3
   },
   "file_extension": ".py",
   "mimetype": "text/x-python",
   "name": "python",
   "nbconvert_exporter": "python",
   "pygments_lexer": "ipython3",
   "version": "3.7.3"
  }
 },
 "nbformat": 4,
 "nbformat_minor": 2
}
